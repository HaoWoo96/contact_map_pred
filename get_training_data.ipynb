{
 "cells": [
  {
   "cell_type": "markdown",
   "metadata": {},
   "source": [
    "Hao Wu  July 18 2020 <br />\n",
    "This code is intended to generate training data for our model"
   ]
  },
  {
   "cell_type": "code",
   "execution_count": 1,
   "metadata": {},
   "outputs": [],
   "source": [
    "import numpy as np\n",
    "import matplotlib.pyplot as plt\n",
    "import os\n",
    "import pathlib\n",
    "from tqdm.notebook import tqdm\n",
    "import pandas as pd\n",
    "import itertools\n",
    "import statistics"
   ]
  },
  {
   "cell_type": "markdown",
   "metadata": {},
   "source": [
    "# 1. Preparation"
   ]
  },
  {
   "cell_type": "markdown",
   "metadata": {},
   "source": [
    "## 1.1 Read & Check Distance Matrices"
   ]
  },
  {
   "cell_type": "code",
   "execution_count": 2,
   "metadata": {},
   "outputs": [
    {
     "name": "stdout",
     "output_type": "stream",
     "text": [
      "True\n",
      "True\n",
      "True\n",
      "11181\n"
     ]
    }
   ],
   "source": [
    "maps = os.listdir(\"contact_maps/\")\n",
    "pred = os.listdir(\"contact_predictions/\")\n",
    "maps_code = [m.split(\"_\")[0] for m in maps]\n",
    "pred_code = [p.split(\"_\")[0] for p in pred]\n",
    "# check duplicated elements in maps or preds\n",
    "print (len(set(maps_code)) == len(maps_code))\n",
    "print (len(set(pred_code)) == len(pred_code))\n",
    "\n",
    "# check whether maps & preds match\n",
    "print (set(maps_code) == set(pred_code)) # True, which means we have same set of acid code for real contact map and predictions\n",
    "num_of_code = len(set(maps_code))\n",
    "print (num_of_code) # number of acid codes/contact maps we are analyzing \n"
   ]
  },
  {
   "cell_type": "markdown",
   "metadata": {},
   "source": [
    "## 1.2 Generate Square Diff Matrices "
   ]
  },
  {
   "cell_type": "markdown",
   "metadata": {},
   "source": [
    "1. For each pair of contact map & prediction, calculate squared difference between corresponding points of the two matrices and generate a square diff matrix.\n",
    "2. Collect all data points in the upper triangular part of each sqr-diff matrix and store in a list\n",
    "* upper triangular part: since data points on each contact map are symmetric about y=x, we can either focus on upper triangular part of the matrix (y>=x) or on lower triangular part (x>=y)"
   ]
  },
  {
   "cell_type": "code",
   "execution_count": 3,
   "metadata": {},
   "outputs": [
    {
     "data": {
      "application/vnd.jupyter.widget-view+json": {
       "model_id": "edc537131b414eb29586428746c4e5e2",
       "version_major": 2,
       "version_minor": 0
      },
      "text/plain": [
       "HBox(children=(IntProgress(value=0, max=11181), HTML(value='')))"
      ]
     },
     "metadata": {},
     "output_type": "display_data"
    },
    {
     "name": "stdout",
     "output_type": "stream",
     "text": [
      "\n"
     ]
    }
   ],
   "source": [
    "sqr_diff = {}\n",
    "contact_pred = {}\n",
    "diff_ele = []\n",
    "for c in tqdm(maps_code):\n",
    "    temp_map = np.load(\"contact_maps/\"+c+\"_contact_map.npy\")\n",
    "    temp_pred = np.load(\"contact_predictions/\"+c+\"_contact_pred.npy\")\n",
    "    temp = np.power(np.subtract(temp_map, temp_pred),2)\n",
    "    size = temp.shape[0]\n",
    "    contact_pred[c] = (temp_pred, size)\n",
    "    sqr_diff[c] = (temp, size)\n",
    "    iu = np.triu_indices(size) # indices in upper triangle matrix\n",
    "    \n",
    "    # concatenating flatten np matrix with list is faster than merging np matrix\n",
    "    diff_ele += list(temp[iu].flat) \n"
   ]
  },
  {
   "cell_type": "markdown",
   "metadata": {},
   "source": [
    "## 1.3 Hyperparameters"
   ]
  },
  {
   "cell_type": "markdown",
   "metadata": {},
   "source": [
    "There are two hyperparameters:\n",
    "1. cutoff of sqr-diff value\n",
    "2. neighbor range"
   ]
  },
  {
   "cell_type": "markdown",
   "metadata": {},
   "source": [
    "### Choose Cutoff of Squared Difference Value "
   ]
  },
  {
   "cell_type": "markdown",
   "metadata": {},
   "source": [
    "1. The cutoff serves to determine whether a squared difference value is large enough so that the corresponding data point in predicted contact map can be considered as an error.\n",
    "2. Based on the list of all sqr-diff data points, we can choose a cutoff according to its distribution.\n",
    "3. Here I have chosen 75% quantile of all the sqr-diff data."
   ]
  },
  {
   "cell_type": "code",
   "execution_count": 4,
   "metadata": {},
   "outputs": [
    {
     "name": "stdout",
     "output_type": "stream",
     "text": [
      "11181\n",
      "369656525\n"
     ]
    }
   ],
   "source": [
    "print (len(sqr_diff))\n",
    "print (len(diff_ele)) # 736777153 | 369656525\n",
    "\n",
    "# takes about 5-6 | 2-3 min to compute\n",
    "#cutoff = np.quantile(diff_ele,0.75) # 7.172270573359031e-06 | 7.068872962487293e-06\n",
    "cutoff = 7.068872962487293e-06\n",
    "#print (cutoff)"
   ]
  },
  {
   "cell_type": "markdown",
   "metadata": {},
   "source": [
    "### Neighbor Range & Get Neighbors Function"
   ]
  },
  {
   "cell_type": "markdown",
   "metadata": {},
   "source": [
    "Neighbor range determines the size of region we are going to check around certain data point. \n",
    "For example, for a data point (i,j), given neighbor range n = 1, the neighbor we are going to check will be (i-1,j-1), (i,j-1), (i+1,j-1), (i-1,j), (i+1,j), (i-1,j+1), (i,j+1), (i+1,j) "
   ]
  },
  {
   "cell_type": "code",
   "execution_count": 5,
   "metadata": {},
   "outputs": [],
   "source": [
    "nb_range = 3"
   ]
  },
  {
   "cell_type": "code",
   "execution_count": 12,
   "metadata": {},
   "outputs": [],
   "source": [
    "def get_neighbors(x,y,n,s,matrix):\n",
    "    '''\n",
    "    perm = list(itertools.product(list(range(max(x-n,0),min(x+n+1,s))),list(range(max(y-n,0),min(y+n+1,s)))))\n",
    "    perm.remove((x,y))\n",
    "    half_perm_values = [matrix[p[0]][p[1]] for p in perm if p[0]<=p[1]]\n",
    "    '''\n",
    "    \n",
    "    neighbor_matrix = matrix[max(x-n,0):min(x+n+1,s), max(y-n,0):min(y+n+1,s)]\n",
    "    iu_neighbor_matrix = np.triu_indices(neighbor_matrix.shape[0])\n",
    "    half_perm_values = list(neighbor_matrix[iu_neighbor_matrix].flat)\n",
    "    half_perm_values.remove(matrix[x][y])\n",
    "    return (min(half_perm_values),statistics.median(half_perm_values),max(half_perm_values),statistics.mean(half_perm_values),statistics.stdev(half_perm_values))\n"
   ]
  },
  {
   "cell_type": "code",
   "execution_count": 7,
   "metadata": {},
   "outputs": [
    {
     "data": {
      "text/plain": [
       "'\\ntemp_points = [(98, 98), (98, 99)]\\ntemp_try = [tt for t in temp_points for tt in get_neighbors(t[0],t[1],1,100) ]\\nprint (temp_try)\\n'"
      ]
     },
     "execution_count": 7,
     "metadata": {},
     "output_type": "execute_result"
    }
   ],
   "source": [
    " '''\n",
    "temp_points = [(98, 98), (98, 99)]\n",
    "temp_try = [tt for t in temp_points for tt in get_neighbors(t[0],t[1],1,100) ]\n",
    "print (temp_try)\n",
    " '''"
   ]
  },
  {
   "cell_type": "markdown",
   "metadata": {},
   "source": [
    "# 2. Generate Training Data"
   ]
  },
  {
   "cell_type": "markdown",
   "metadata": {},
   "source": [
    "The training data will be in form of feature values + output value. Each row of entries corresponds to a point in the predicted contact map, and includes features about \n",
    "1. relative position in the matrix \n",
    "2. predicted value \n",
    "3. predicted values of adjacent points. \n",
    "\n",
    "The output value of each row is either 1 or 0. For each point in the predicted contact map, classify whether the data point is an error based on its value in sqr-diff matrix and cutoff value. If the sqr-diff is larger than cutoff, it will be classified as \"TRUE\" (output value 1), which means it is large enough to be considered as an error. On the contrary, if the sqr-diff is less than cutoff, it will be classified as \"FALSE\" (output value 0), which means it's not considered an error."
   ]
  },
  {
   "cell_type": "markdown",
   "metadata": {},
   "source": [
    "### Relative Position"
   ]
  },
  {
   "cell_type": "markdown",
   "metadata": {},
   "source": [
    "Calculate relative position of each data point (relative position = x or y coordinate / size of matrix. e.g. (5,10) in a matrix of size 10 will have relative position (5/10, 10/10) = (0.5, 1))"
   ]
  },
  {
   "cell_type": "code",
   "execution_count": 13,
   "metadata": {},
   "outputs": [
    {
     "data": {
      "application/vnd.jupyter.widget-view+json": {
       "model_id": "1cd5c582340e446687567b54363f09b7",
       "version_major": 2,
       "version_minor": 0
      },
      "text/plain": [
       "HBox(children=(IntProgress(value=0, max=11181), HTML(value='')))"
      ]
     },
     "metadata": {},
     "output_type": "display_data"
    },
    {
     "ename": "IndexError",
     "evalue": "index 4 is out of bounds for axis 1 with size 4",
     "output_type": "error",
     "traceback": [
      "\u001b[0;31m---------------------------------------------------------------------------\u001b[0m",
      "\u001b[0;31mIndexError\u001b[0m                                Traceback (most recent call last)",
      "\u001b[0;32m<ipython-input-13-37206e1e60f4>\u001b[0m in \u001b[0;36m<module>\u001b[0;34m\u001b[0m\n\u001b[1;32m     25\u001b[0m     \u001b[0mpred_value_true\u001b[0m \u001b[0;34m=\u001b[0m \u001b[0;34m[\u001b[0m\u001b[0mcontact_pred\u001b[0m\u001b[0;34m[\u001b[0m\u001b[0mm\u001b[0m\u001b[0;34m]\u001b[0m\u001b[0;34m[\u001b[0m\u001b[0;36m0\u001b[0m\u001b[0;34m]\u001b[0m\u001b[0;34m[\u001b[0m\u001b[0mtemp_result_true\u001b[0m\u001b[0;34m[\u001b[0m\u001b[0;36m0\u001b[0m\u001b[0;34m]\u001b[0m\u001b[0;34m[\u001b[0m\u001b[0mi\u001b[0m\u001b[0;34m]\u001b[0m\u001b[0;34m]\u001b[0m\u001b[0;34m[\u001b[0m\u001b[0mtemp_result_true\u001b[0m\u001b[0;34m[\u001b[0m\u001b[0;36m1\u001b[0m\u001b[0;34m]\u001b[0m\u001b[0;34m[\u001b[0m\u001b[0mi\u001b[0m\u001b[0;34m]\u001b[0m\u001b[0;34m]\u001b[0m \u001b[0;32mfor\u001b[0m \u001b[0mi\u001b[0m \u001b[0;32min\u001b[0m \u001b[0mrange\u001b[0m\u001b[0;34m(\u001b[0m\u001b[0mlen\u001b[0m\u001b[0;34m(\u001b[0m\u001b[0mtemp_result_true\u001b[0m\u001b[0;34m[\u001b[0m\u001b[0;36m0\u001b[0m\u001b[0;34m]\u001b[0m\u001b[0;34m)\u001b[0m\u001b[0;34m)\u001b[0m\u001b[0;34m]\u001b[0m\u001b[0;34m\u001b[0m\u001b[0;34m\u001b[0m\u001b[0m\n\u001b[1;32m     26\u001b[0m     \u001b[0;31m# TO DO: get predicted value of points adjacent to (x,y) of predicted contact map m\u001b[0m\u001b[0;34m\u001b[0m\u001b[0;34m\u001b[0m\u001b[0;34m\u001b[0m\u001b[0m\n\u001b[0;32m---> 27\u001b[0;31m     \u001b[0mneighbor_value_true\u001b[0m \u001b[0;34m=\u001b[0m \u001b[0;34m[\u001b[0m\u001b[0mget_neighbors\u001b[0m\u001b[0;34m(\u001b[0m\u001b[0mtemp_result_true\u001b[0m\u001b[0;34m[\u001b[0m\u001b[0;36m0\u001b[0m\u001b[0;34m]\u001b[0m\u001b[0;34m[\u001b[0m\u001b[0mi\u001b[0m\u001b[0;34m]\u001b[0m\u001b[0;34m,\u001b[0m\u001b[0mtemp_result_true\u001b[0m\u001b[0;34m[\u001b[0m\u001b[0;36m1\u001b[0m\u001b[0;34m]\u001b[0m\u001b[0;34m[\u001b[0m\u001b[0mi\u001b[0m\u001b[0;34m]\u001b[0m\u001b[0;34m,\u001b[0m\u001b[0mnb_range\u001b[0m\u001b[0;34m,\u001b[0m\u001b[0msqr_diff\u001b[0m\u001b[0;34m[\u001b[0m\u001b[0mm\u001b[0m\u001b[0;34m]\u001b[0m\u001b[0;34m[\u001b[0m\u001b[0;36m1\u001b[0m\u001b[0;34m]\u001b[0m\u001b[0;34m,\u001b[0m\u001b[0mcontact_pred\u001b[0m\u001b[0;34m[\u001b[0m\u001b[0mm\u001b[0m\u001b[0;34m]\u001b[0m\u001b[0;34m[\u001b[0m\u001b[0;36m0\u001b[0m\u001b[0;34m]\u001b[0m\u001b[0;34m)\u001b[0m \u001b[0;32mfor\u001b[0m \u001b[0mi\u001b[0m \u001b[0;32min\u001b[0m \u001b[0mrange\u001b[0m\u001b[0;34m(\u001b[0m\u001b[0mlen\u001b[0m\u001b[0;34m(\u001b[0m\u001b[0mtemp_result_true\u001b[0m\u001b[0;34m[\u001b[0m\u001b[0;36m0\u001b[0m\u001b[0;34m]\u001b[0m\u001b[0;34m)\u001b[0m\u001b[0;34m)\u001b[0m\u001b[0;34m]\u001b[0m\u001b[0;34m\u001b[0m\u001b[0;34m\u001b[0m\u001b[0m\n\u001b[0m\u001b[1;32m     28\u001b[0m     '''\n\u001b[1;32m     29\u001b[0m     \u001b[0;32mfor\u001b[0m \u001b[0mi\u001b[0m \u001b[0;32min\u001b[0m \u001b[0mrange\u001b[0m\u001b[0;34m(\u001b[0m\u001b[0mlen\u001b[0m\u001b[0;34m(\u001b[0m\u001b[0mtemp_result_true\u001b[0m\u001b[0;34m[\u001b[0m\u001b[0;36m0\u001b[0m\u001b[0;34m]\u001b[0m\u001b[0;34m)\u001b[0m\u001b[0;34m)\u001b[0m\u001b[0;34m:\u001b[0m\u001b[0;34m\u001b[0m\u001b[0;34m\u001b[0m\u001b[0m\n",
      "\u001b[0;32m<ipython-input-13-37206e1e60f4>\u001b[0m in \u001b[0;36m<listcomp>\u001b[0;34m(.0)\u001b[0m\n\u001b[1;32m     25\u001b[0m     \u001b[0mpred_value_true\u001b[0m \u001b[0;34m=\u001b[0m \u001b[0;34m[\u001b[0m\u001b[0mcontact_pred\u001b[0m\u001b[0;34m[\u001b[0m\u001b[0mm\u001b[0m\u001b[0;34m]\u001b[0m\u001b[0;34m[\u001b[0m\u001b[0;36m0\u001b[0m\u001b[0;34m]\u001b[0m\u001b[0;34m[\u001b[0m\u001b[0mtemp_result_true\u001b[0m\u001b[0;34m[\u001b[0m\u001b[0;36m0\u001b[0m\u001b[0;34m]\u001b[0m\u001b[0;34m[\u001b[0m\u001b[0mi\u001b[0m\u001b[0;34m]\u001b[0m\u001b[0;34m]\u001b[0m\u001b[0;34m[\u001b[0m\u001b[0mtemp_result_true\u001b[0m\u001b[0;34m[\u001b[0m\u001b[0;36m1\u001b[0m\u001b[0;34m]\u001b[0m\u001b[0;34m[\u001b[0m\u001b[0mi\u001b[0m\u001b[0;34m]\u001b[0m\u001b[0;34m]\u001b[0m \u001b[0;32mfor\u001b[0m \u001b[0mi\u001b[0m \u001b[0;32min\u001b[0m \u001b[0mrange\u001b[0m\u001b[0;34m(\u001b[0m\u001b[0mlen\u001b[0m\u001b[0;34m(\u001b[0m\u001b[0mtemp_result_true\u001b[0m\u001b[0;34m[\u001b[0m\u001b[0;36m0\u001b[0m\u001b[0;34m]\u001b[0m\u001b[0;34m)\u001b[0m\u001b[0;34m)\u001b[0m\u001b[0;34m]\u001b[0m\u001b[0;34m\u001b[0m\u001b[0;34m\u001b[0m\u001b[0m\n\u001b[1;32m     26\u001b[0m     \u001b[0;31m# TO DO: get predicted value of points adjacent to (x,y) of predicted contact map m\u001b[0m\u001b[0;34m\u001b[0m\u001b[0;34m\u001b[0m\u001b[0;34m\u001b[0m\u001b[0m\n\u001b[0;32m---> 27\u001b[0;31m     \u001b[0mneighbor_value_true\u001b[0m \u001b[0;34m=\u001b[0m \u001b[0;34m[\u001b[0m\u001b[0mget_neighbors\u001b[0m\u001b[0;34m(\u001b[0m\u001b[0mtemp_result_true\u001b[0m\u001b[0;34m[\u001b[0m\u001b[0;36m0\u001b[0m\u001b[0;34m]\u001b[0m\u001b[0;34m[\u001b[0m\u001b[0mi\u001b[0m\u001b[0;34m]\u001b[0m\u001b[0;34m,\u001b[0m\u001b[0mtemp_result_true\u001b[0m\u001b[0;34m[\u001b[0m\u001b[0;36m1\u001b[0m\u001b[0;34m]\u001b[0m\u001b[0;34m[\u001b[0m\u001b[0mi\u001b[0m\u001b[0;34m]\u001b[0m\u001b[0;34m,\u001b[0m\u001b[0mnb_range\u001b[0m\u001b[0;34m,\u001b[0m\u001b[0msqr_diff\u001b[0m\u001b[0;34m[\u001b[0m\u001b[0mm\u001b[0m\u001b[0;34m]\u001b[0m\u001b[0;34m[\u001b[0m\u001b[0;36m1\u001b[0m\u001b[0;34m]\u001b[0m\u001b[0;34m,\u001b[0m\u001b[0mcontact_pred\u001b[0m\u001b[0;34m[\u001b[0m\u001b[0mm\u001b[0m\u001b[0;34m]\u001b[0m\u001b[0;34m[\u001b[0m\u001b[0;36m0\u001b[0m\u001b[0;34m]\u001b[0m\u001b[0;34m)\u001b[0m \u001b[0;32mfor\u001b[0m \u001b[0mi\u001b[0m \u001b[0;32min\u001b[0m \u001b[0mrange\u001b[0m\u001b[0;34m(\u001b[0m\u001b[0mlen\u001b[0m\u001b[0;34m(\u001b[0m\u001b[0mtemp_result_true\u001b[0m\u001b[0;34m[\u001b[0m\u001b[0;36m0\u001b[0m\u001b[0;34m]\u001b[0m\u001b[0;34m)\u001b[0m\u001b[0;34m)\u001b[0m\u001b[0;34m]\u001b[0m\u001b[0;34m\u001b[0m\u001b[0;34m\u001b[0m\u001b[0m\n\u001b[0m\u001b[1;32m     28\u001b[0m     '''\n\u001b[1;32m     29\u001b[0m     \u001b[0;32mfor\u001b[0m \u001b[0mi\u001b[0m \u001b[0;32min\u001b[0m \u001b[0mrange\u001b[0m\u001b[0;34m(\u001b[0m\u001b[0mlen\u001b[0m\u001b[0;34m(\u001b[0m\u001b[0mtemp_result_true\u001b[0m\u001b[0;34m[\u001b[0m\u001b[0;36m0\u001b[0m\u001b[0;34m]\u001b[0m\u001b[0;34m)\u001b[0m\u001b[0;34m)\u001b[0m\u001b[0;34m:\u001b[0m\u001b[0;34m\u001b[0m\u001b[0;34m\u001b[0m\u001b[0m\n",
      "\u001b[0;32m<ipython-input-12-33fb709cc7b4>\u001b[0m in \u001b[0;36mget_neighbors\u001b[0;34m(x, y, n, s, matrix)\u001b[0m\n\u001b[1;32m      8\u001b[0m     \u001b[0mneighbor_matrix\u001b[0m \u001b[0;34m=\u001b[0m \u001b[0mmatrix\u001b[0m\u001b[0;34m[\u001b[0m\u001b[0mmax\u001b[0m\u001b[0;34m(\u001b[0m\u001b[0mx\u001b[0m\u001b[0;34m-\u001b[0m\u001b[0mn\u001b[0m\u001b[0;34m,\u001b[0m\u001b[0;36m0\u001b[0m\u001b[0;34m)\u001b[0m\u001b[0;34m:\u001b[0m\u001b[0mmin\u001b[0m\u001b[0;34m(\u001b[0m\u001b[0mx\u001b[0m\u001b[0;34m+\u001b[0m\u001b[0mn\u001b[0m\u001b[0;34m+\u001b[0m\u001b[0;36m1\u001b[0m\u001b[0;34m,\u001b[0m\u001b[0ms\u001b[0m\u001b[0;34m)\u001b[0m\u001b[0;34m,\u001b[0m \u001b[0mmax\u001b[0m\u001b[0;34m(\u001b[0m\u001b[0my\u001b[0m\u001b[0;34m-\u001b[0m\u001b[0mn\u001b[0m\u001b[0;34m,\u001b[0m\u001b[0;36m0\u001b[0m\u001b[0;34m)\u001b[0m\u001b[0;34m:\u001b[0m\u001b[0mmin\u001b[0m\u001b[0;34m(\u001b[0m\u001b[0my\u001b[0m\u001b[0;34m+\u001b[0m\u001b[0mn\u001b[0m\u001b[0;34m+\u001b[0m\u001b[0;36m1\u001b[0m\u001b[0;34m,\u001b[0m\u001b[0ms\u001b[0m\u001b[0;34m)\u001b[0m\u001b[0;34m]\u001b[0m\u001b[0;34m\u001b[0m\u001b[0;34m\u001b[0m\u001b[0m\n\u001b[1;32m      9\u001b[0m     \u001b[0miu_neighbor_matrix\u001b[0m \u001b[0;34m=\u001b[0m \u001b[0mnp\u001b[0m\u001b[0;34m.\u001b[0m\u001b[0mtriu_indices\u001b[0m\u001b[0;34m(\u001b[0m\u001b[0mneighbor_matrix\u001b[0m\u001b[0;34m.\u001b[0m\u001b[0mshape\u001b[0m\u001b[0;34m[\u001b[0m\u001b[0;36m0\u001b[0m\u001b[0;34m]\u001b[0m\u001b[0;34m)\u001b[0m\u001b[0;34m\u001b[0m\u001b[0;34m\u001b[0m\u001b[0m\n\u001b[0;32m---> 10\u001b[0;31m     \u001b[0mhalf_perm_values\u001b[0m \u001b[0;34m=\u001b[0m \u001b[0mlist\u001b[0m\u001b[0;34m(\u001b[0m\u001b[0mneighbor_matrix\u001b[0m\u001b[0;34m[\u001b[0m\u001b[0miu_neighbor_matrix\u001b[0m\u001b[0;34m]\u001b[0m\u001b[0;34m.\u001b[0m\u001b[0mflat\u001b[0m\u001b[0;34m)\u001b[0m\u001b[0;34m\u001b[0m\u001b[0;34m\u001b[0m\u001b[0m\n\u001b[0m\u001b[1;32m     11\u001b[0m     \u001b[0mhalf_perm_values\u001b[0m\u001b[0;34m.\u001b[0m\u001b[0mremove\u001b[0m\u001b[0;34m(\u001b[0m\u001b[0mmatrix\u001b[0m\u001b[0;34m[\u001b[0m\u001b[0mx\u001b[0m\u001b[0;34m]\u001b[0m\u001b[0;34m[\u001b[0m\u001b[0my\u001b[0m\u001b[0;34m]\u001b[0m\u001b[0;34m)\u001b[0m\u001b[0;34m\u001b[0m\u001b[0;34m\u001b[0m\u001b[0m\n\u001b[1;32m     12\u001b[0m     \u001b[0;32mreturn\u001b[0m \u001b[0;34m(\u001b[0m\u001b[0mmin\u001b[0m\u001b[0;34m(\u001b[0m\u001b[0mhalf_perm_values\u001b[0m\u001b[0;34m)\u001b[0m\u001b[0;34m,\u001b[0m\u001b[0mstatistics\u001b[0m\u001b[0;34m.\u001b[0m\u001b[0mmedian\u001b[0m\u001b[0;34m(\u001b[0m\u001b[0mhalf_perm_values\u001b[0m\u001b[0;34m)\u001b[0m\u001b[0;34m,\u001b[0m\u001b[0mmax\u001b[0m\u001b[0;34m(\u001b[0m\u001b[0mhalf_perm_values\u001b[0m\u001b[0;34m)\u001b[0m\u001b[0;34m,\u001b[0m\u001b[0mstatistics\u001b[0m\u001b[0;34m.\u001b[0m\u001b[0mmean\u001b[0m\u001b[0;34m(\u001b[0m\u001b[0mhalf_perm_values\u001b[0m\u001b[0;34m)\u001b[0m\u001b[0;34m,\u001b[0m\u001b[0mstatistics\u001b[0m\u001b[0;34m.\u001b[0m\u001b[0mstdev\u001b[0m\u001b[0;34m(\u001b[0m\u001b[0mhalf_perm_values\u001b[0m\u001b[0;34m)\u001b[0m\u001b[0;34m)\u001b[0m\u001b[0;34m\u001b[0m\u001b[0;34m\u001b[0m\u001b[0m\n",
      "\u001b[0;31mIndexError\u001b[0m: index 4 is out of bounds for axis 1 with size 4"
     ]
    }
   ],
   "source": [
    "pos_true = []\n",
    "pred_value_true = []\n",
    "neighbor_value_true = []\n",
    "\n",
    "pos_false = []\n",
    "pred_value_false = []\n",
    "neighbor_value_false = []\n",
    "\n",
    "# takes about 20 min to compute\n",
    "for m in tqdm(maps_code):\n",
    "    il = np.tril_indices(sqr_diff[m][1], -1) # index of lower triangle matrix without diagonal\n",
    "    # change values in the lower triangular part to an arbitrary large number so that they won't be included in our training data\n",
    "    sqr_diff[m][0][il] = 1000000  \n",
    "    \n",
    "    # --- True Data Points ---\n",
    "    temp_result_true = np.where((sqr_diff[m][0]>=cutoff) & (sqr_diff[m][0]<1000000))\n",
    "    '''\n",
    "    # extract relative position of TRUE data points\n",
    "    temp_result_true_x = [x/sqr_diff[m][1] for x in temp_result_true[0]]\n",
    "    temp_result_true_y = [y/sqr_diff[m][1] for y in temp_result_true[1]]\n",
    "    pos_true += list(zip(temp_result_true_x, temp_result_true_y)) # relative position stored in a list\n",
    "    '''\n",
    "    \n",
    "    # get predicted value at (x,y) of predicted contact map m\n",
    "    pred_value_true = [contact_pred[m][0][temp_result_true[0][i]][temp_result_true[1][i]] for i in range(len(temp_result_true[0]))]\n",
    "    # TO DO: get predicted value of points adjacent to (x,y) of predicted contact map m\n",
    "    neighbor_value_true = [get_neighbors(temp_result_true[0][i],temp_result_true[1][i],nb_range,sqr_diff[m][1],contact_pred[m][0]) for i in range(len(temp_result_true[0]))]\n",
    "    '''\n",
    "    for i in range(len(temp_result_true[0])):\n",
    "        temp_neighbor_values = [contact_pred[m][0][g[0]][g[1]] for g in get_neighbors(temp_result_true[0][i],temp_result_true[1][i],nb_range,sqr_diff[m][1])]\n",
    "        neighbor_value_true += (min(temp_neighbor_values),statistics.median(temp_neighbor_values),max(temp_neighbor_values),statistics.mean(temp_neighbor_values),statistics.stdev(temp_neighbor_values))\n",
    "    '''\n",
    "    # --- False Data Points ---\n",
    "    temp_result_false = np.where(sqr_diff[m][0]<cutoff)\n",
    "    '''\n",
    "    # extract relative position of FALSE data points\n",
    "    temp_result_false_z = [z/sqr_diff[m][1] for z in temp_result_false[0]]\n",
    "    temp_result_false_w = [w/sqr_diff[m][1] for w in temp_result_false[1]]\n",
    "    pos_false += list(zip(temp_result_false_z, temp_result_false_w))\n",
    "    '''\n",
    "    \n",
    "    # get predicted value at (x,y) of predicted contact map m\n",
    "    pred_value_false = [contact_pred[m][0][temp_result_false[0][i]][temp_result_false[1][i]] for i in range(len(temp_result_false[0]))]\n",
    "    # TO DO: get predicted value of points adjacent to (x,y) of predicted contact map m\n",
    "    '''\n",
    "    for i in range(len(temp_result_false[0])):\n",
    "        temp_neighbor_values = [contact_pred[m][0][g[0]][g[1]] for g in get_neighbors(temp_result_false[0][i],temp_result_false[1][i],nb_range,sqr_diff[m][1])]\n",
    "        neighbor_value_false += (min(temp_neighbor_values),statistics.median(temp_neighbor_values),max(temp_neighbor_values),statistics.mean(temp_neighbor_values),statistics.stdev(temp_neighbor_values))\n",
    "    '''\n",
    "    \n",
    "    "
   ]
  },
  {
   "cell_type": "code",
   "execution_count": null,
   "metadata": {},
   "outputs": [],
   "source": []
  },
  {
   "cell_type": "code",
   "execution_count": null,
   "metadata": {},
   "outputs": [],
   "source": [
    "print (len(pos_true)) # 9214132\n",
    "print (len(pos_false)) # 277242393\n",
    "# 9214132 + 277242393 = 369656525, which echoes the number of all data points\n",
    "\n",
    "# convert list to dataframe\n",
    "data_true = pd.DataFrame(pos_true,columns=[\"pos_x\", \"pos_y\"])\n",
    "data_false = pd.DataFrame(pos_false,columns=[\"pos_x\", \"pos_y\"])\n",
    "data_true[\"output\"] = 1 # TRUE data is marked 1\n",
    "data_false[\"output\"] = 0 # FALSE data is marked 0\n",
    "print (data_true)\n",
    "print (data_false)\n"
   ]
  },
  {
   "cell_type": "code",
   "execution_count": null,
   "metadata": {},
   "outputs": [],
   "source": [
    "# output dataframes of training data to csv files\n",
    "data_true.to_csv(\"training_data_true.csv\", index=False) # 3.64 GB\n",
    "data_false.to_csv(\"training_data_false.csv\", index=False) # 10.93 GB"
   ]
  },
  {
   "cell_type": "markdown",
   "metadata": {},
   "source": [
    "# Visualize Contact Maps"
   ]
  },
  {
   "cell_type": "markdown",
   "metadata": {},
   "source": [
    "not relevant to getting training data but may be referenced later"
   ]
  },
  {
   "cell_type": "code",
   "execution_count": null,
   "metadata": {},
   "outputs": [],
   "source": [
    "viz_cm = np.load(\"contact_maps/1A0CA_contact_map.npy\")\n",
    "plt.matshow(viz_cm)\n",
    "plt.show()"
   ]
  },
  {
   "cell_type": "code",
   "execution_count": null,
   "metadata": {},
   "outputs": [],
   "source": [
    "viz_cp = np.load(\"contact_predictions/1A0CA_contact_pred.npy\")\n",
    "plt.matshow(viz_cp)\n",
    "plt.show()"
   ]
  },
  {
   "cell_type": "code",
   "execution_count": null,
   "metadata": {},
   "outputs": [],
   "source": [
    "a = [[1,2,3],[4,5,6]]\n",
    "temp_ab = [(a[0][i],a[1][i]) for i in range(len(a[0]))]\n",
    "temp_cd = [x for x in zip(a[0],a[1])]\n",
    "print (temp_ab)\n",
    "print (temp_cd)"
   ]
  },
  {
   "cell_type": "code",
   "execution_count": null,
   "metadata": {},
   "outputs": [],
   "source": [
    "b = [1,2,4,4]\n",
    "print (statistics.mean(b))\n",
    "print (statistics.median(b))\n",
    "print (min(b))\n",
    "print (max(b))\n",
    "print (statistics.stdev(b))"
   ]
  },
  {
   "cell_type": "code",
   "execution_count": null,
   "metadata": {},
   "outputs": [],
   "source": []
  }
 ],
 "metadata": {
  "kernelspec": {
   "display_name": "Python 3",
   "language": "python",
   "name": "python3"
  },
  "language_info": {
   "codemirror_mode": {
    "name": "ipython",
    "version": 3
   },
   "file_extension": ".py",
   "mimetype": "text/x-python",
   "name": "python",
   "nbconvert_exporter": "python",
   "pygments_lexer": "ipython3",
   "version": "3.7.4"
  }
 },
 "nbformat": 4,
 "nbformat_minor": 2
}
