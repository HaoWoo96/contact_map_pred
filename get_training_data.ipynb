{
 "cells": [
  {
   "cell_type": "markdown",
   "metadata": {},
   "source": [
    "Hao Wu  July 18 2020 <br />\n",
    "This code is intended to generate training data for our model"
   ]
  },
  {
   "cell_type": "code",
   "execution_count": 1,
   "metadata": {},
   "outputs": [],
   "source": [
    "import numpy as np\n",
    "import matplotlib.pyplot as plt\n",
    "import os\n",
    "import pathlib\n",
    "from tqdm.notebook import tqdm\n",
    "import pandas as pd\n",
    "import itertools\n",
    "import statistics"
   ]
  },
  {
   "cell_type": "markdown",
   "metadata": {},
   "source": [
    "# 1. Preparation"
   ]
  },
  {
   "cell_type": "markdown",
   "metadata": {},
   "source": [
    "## 1.1 Read & Check Distance Matrices"
   ]
  },
  {
   "cell_type": "code",
   "execution_count": 2,
   "metadata": {},
   "outputs": [
    {
     "name": "stdout",
     "output_type": "stream",
     "text": [
      "True\n",
      "True\n",
      "True\n",
      "11181\n"
     ]
    }
   ],
   "source": [
    "maps = os.listdir(\"contact_maps/\")\n",
    "pred = os.listdir(\"contact_predictions/\")\n",
    "maps_code = [m.split(\"_\")[0] for m in maps]\n",
    "pred_code = [p.split(\"_\")[0] for p in pred]\n",
    "# check duplicated elements in maps or preds\n",
    "print (len(set(maps_code)) == len(maps_code))\n",
    "print (len(set(pred_code)) == len(pred_code))\n",
    "\n",
    "# check whether maps & preds match\n",
    "print (set(maps_code) == set(pred_code)) # True, which means we have same set of acid code for real contact map and predictions\n",
    "num_of_code = len(set(maps_code))\n",
    "print (num_of_code) # number of acid codes/contact maps we are analyzing \n"
   ]
  },
  {
   "cell_type": "markdown",
   "metadata": {},
   "source": [
    "## 1.2 Generate Square Diff Matrices "
   ]
  },
  {
   "cell_type": "markdown",
   "metadata": {},
   "source": [
    "1. For each pair of contact map & prediction, calculate squared difference between corresponding points of the two matrices and generate a square diff matrix.\n",
    "2. Collect all data points in the upper triangular part of each sqr-diff matrix and store in a list\n",
    "* upper triangular part: since data points on each contact map are symmetric about y=x, we can either focus on upper triangular part of the matrix (y>=x) or on lower triangular part (x>=y)"
   ]
  },
  {
   "cell_type": "code",
   "execution_count": 3,
   "metadata": {},
   "outputs": [
    {
     "data": {
      "application/vnd.jupyter.widget-view+json": {
       "model_id": "3f8037da4cd54d8c89f522a2566892ac",
       "version_major": 2,
       "version_minor": 0
      },
      "text/plain": [
       "HBox(children=(IntProgress(value=0, max=11181), HTML(value='')))"
      ]
     },
     "metadata": {},
     "output_type": "display_data"
    },
    {
     "name": "stdout",
     "output_type": "stream",
     "text": [
      "\n"
     ]
    }
   ],
   "source": [
    "sqr_diff = {}\n",
    "contact_pred = {}\n",
    "diff_ele = []\n",
    "for c in tqdm(maps_code):\n",
    "    temp_map = np.load(\"contact_maps/\"+c+\"_contact_map.npy\")\n",
    "    temp_pred = np.load(\"contact_predictions/\"+c+\"_contact_pred.npy\")\n",
    "    temp = np.power(np.subtract(temp_map, temp_pred),2)\n",
    "    size = temp.shape[0]\n",
    "    contact_pred[c] = (temp_pred, size)\n",
    "    sqr_diff[c] = (temp, size)\n",
    "    iu = np.triu_indices(size) # indices in upper triangle matrix\n",
    "    \n",
    "    # concatenating flatten np matrix with list is faster than merging np matrix\n",
    "    diff_ele += list(temp[iu].flat) \n"
   ]
  },
  {
   "cell_type": "markdown",
   "metadata": {},
   "source": [
    "## 1.3 Hyperparameters"
   ]
  },
  {
   "cell_type": "markdown",
   "metadata": {},
   "source": [
    "There are two hyperparameters:\n",
    "1. cutoff of sqr-diff value\n",
    "2. neighbor range"
   ]
  },
  {
   "cell_type": "markdown",
   "metadata": {},
   "source": [
    "### Choose Cutoff of Squared Difference Value "
   ]
  },
  {
   "cell_type": "markdown",
   "metadata": {},
   "source": [
    "1. The cutoff serves to determine whether a squared difference value is large enough so that the corresponding data point in predicted contact map can be considered as an error.\n",
    "2. Based on the list of all sqr-diff data points, we can choose a cutoff according to its distribution.\n",
    "3. Here I have chosen 75% quantile of all the sqr-diff data."
   ]
  },
  {
   "cell_type": "code",
   "execution_count": 4,
   "metadata": {},
   "outputs": [
    {
     "name": "stdout",
     "output_type": "stream",
     "text": [
      "11181\n",
      "369656525\n"
     ]
    }
   ],
   "source": [
    "print (len(sqr_diff))\n",
    "print (len(diff_ele)) # 736777153 | 369656525\n",
    "\n",
    "# takes about 5-6 | 2-3 min to compute\n",
    "#cutoff = np.quantile(diff_ele,0.75) # 7.172270573359031e-06 | 7.068872962487293e-06\n",
    "cutoff = 7.068872962487293e-06\n",
    "#print (cutoff)"
   ]
  },
  {
   "cell_type": "markdown",
   "metadata": {},
   "source": [
    "### Neighbor Range & Get Neighbors Function"
   ]
  },
  {
   "cell_type": "markdown",
   "metadata": {},
   "source": [
    "Neighbor range determines the size of region we are going to check around certain data point. \n",
    "For example, for a data point (i,j), given neighbor range n = 1, the neighbor we are going to check will be (i-1,j-1), (i,j-1), (i+1,j-1), (i-1,j), (i+1,j), (i-1,j+1), (i,j+1), (i+1,j) "
   ]
  },
  {
   "cell_type": "code",
   "execution_count": 5,
   "metadata": {},
   "outputs": [],
   "source": [
    "nb_range = 3 # one of the two hyperparameters"
   ]
  },
  {
   "cell_type": "code",
   "execution_count": 6,
   "metadata": {},
   "outputs": [],
   "source": [
    "def get_neighbors(x,y,n,s,matrix):\n",
    "    \n",
    "    perm = list(itertools.product(list(range(max(x-n,0),min(x+n+1,s))),list(range(max(y-n,0),min(y+n+1,s)))))\n",
    "    perm.remove((x,y))\n",
    "    #half_perm_values = [matrix[p[0]][p[1]] for p in perm]\n",
    "    half_perm_values = [matrix[p[0]][p[1]] for p in perm if p[0]<=p[1]]\n",
    "    \n",
    "    '''\n",
    "    neighbor_matrix = matrix[max(x-n,0):min(x+n+1,s), max(y-n,0):min(y+n+1,s)]\n",
    "    iu_neighbor_matrix = np.triu_indices(neighbor_matrix.shape[0])\n",
    "    half_perm_values = list(neighbor_matrix[iu_neighbor_matrix].flat)\n",
    "    half_perm_values.remove(matrix[x][y])\n",
    "    '''\n",
    "    return (min(half_perm_values),statistics.median(half_perm_values),max(half_perm_values),statistics.mean(half_perm_values),statistics.stdev(half_perm_values))\n"
   ]
  },
  {
   "cell_type": "markdown",
   "metadata": {},
   "source": [
    "# 2. Generate Training Data"
   ]
  },
  {
   "cell_type": "markdown",
   "metadata": {},
   "source": [
    "The training data will be in form of feature values + output value. Each row of entries corresponds to a point in the predicted contact map, and includes features about \n",
    "1. predicted value \n",
    "2. information about adjacent points (min, med, max, mean, sd)\n",
    "\n",
    "The output value of each row is either 1 or 0. For each point in the predicted contact map, classify whether the data point is an error based on its value in sqr-diff matrix and cutoff value. If the sqr-diff is larger than cutoff, it will be classified as \"TRUE\" (output value 1), which means it is large enough to be considered as an error. On the contrary, if the sqr-diff is less than cutoff, it will be classified as \"FALSE\" (output value 0), which means it's not considered an error."
   ]
  },
  {
   "cell_type": "markdown",
   "metadata": {},
   "source": [
    "### Get Feature Values"
   ]
  },
  {
   "cell_type": "code",
   "execution_count": 7,
   "metadata": {},
   "outputs": [],
   "source": [
    "# This is my original method to get feature values, which follows two steps:\n",
    "# 1. Classify points into true/false points based on cutoff value\n",
    "# 2. For each true/false points, get (1) predicted values in predicted contact map and (2) info about neighbor points\n",
    "# \n",
    "# Since this method checks all of the 369656525 points, it bears with the issue of LONG runtime. \n",
    "\n",
    "def method_one():\n",
    "    pred_value_true = []\n",
    "    neighbor_value_true = []\n",
    "\n",
    "    pred_value_false = []\n",
    "    neighbor_value_false = []\n",
    "\n",
    "    # takes more than 24 hours to compute\n",
    "    for m in tqdm(maps_code):\n",
    "        il = np.tril_indices(sqr_diff[m][1], -1) # index of lower triangle matrix without diagonal\n",
    "        # change values in the lower triangular part to an arbitrary large number so that they won't be included in our training data\n",
    "        sqr_diff[m][0][il] = 1000000  \n",
    "\n",
    "        # --- True Data Points ---\n",
    "        temp_result_true = np.where((sqr_diff[m][0]>=cutoff) & (sqr_diff[m][0]<1000000))\n",
    "\n",
    "        # get predicted value at (x,y) of predicted contact map m\n",
    "        pred_value_true += [contact_pred[m][0][temp_result_true[0][i]][temp_result_true[1][i]] for i in range(len(temp_result_true[0]))]\n",
    "        # TO DO: get predicted value of points adjacent to (x,y) of predicted contact map m\n",
    "        neighbor_value_true += [get_neighbors(temp_result_true[0][i],temp_result_true[1][i],nb_range,sqr_diff[m][1],contact_pred[m][0]) for i in range(len(temp_result_true[0]))]\n",
    "\n",
    "        # --- False Data Points ---\n",
    "        temp_result_false = np.where(sqr_diff[m][0]<cutoff)\n",
    "\n",
    "        # get predicted value at (x,y) of predicted contact map m\n",
    "        pred_value_false += [contact_pred[m][0][temp_result_false[0][i]][temp_result_false[1][i]] for i in range(len(temp_result_false[0]))]\n",
    "        # TO DO: get predicted value of points adjacent to (x,y) of predicted contact map m\n",
    "        neighbor_value_false += [get_neighbors(temp_result_false[0][i],temp_result_false[1][i],nb_range,sqr_diff[m][1],contact_pred[m][0]) for i in range(len(temp_result_false[0]))]\n",
    "    \n",
    "    return (pred_value_true,neighbor_value_true, pred_value_false, neighbor_value_false)\n",
    "    "
   ]
  },
  {
   "cell_type": "code",
   "execution_count": 8,
   "metadata": {},
   "outputs": [],
   "source": [
    "# This is the second method to get training data, based on our discussion, which follows two steps:\n",
    "# 1. Select points we want to check.\n",
    "# 2. For each points, get feature values as well as output value.\n",
    "#    (1) predicted values in predicted contact map \n",
    "#    (2) info about neighbor points\n",
    "#    (3) squared difference value, based on which we will ultimately assign 1 or 0 to each entry as output value\n",
    "# \n",
    "# Depending on the value of neighbor range we choose, this method can check 1/49 ~ 1/9 of the 369656525 points, \n",
    "# shortening the final runtime to 3 hours (with neighbor range as 3). \n",
    "\n",
    "def method_two():\n",
    "    pred_value = []\n",
    "    neighbor_value = []\n",
    "    sqr_diff_value = []\n",
    "    \n",
    "    for m in tqdm(maps_code):\n",
    "        points_ind = list(itertools.product(list(range(0,sqr_diff[m][1],nb_range+1)),list(range(0,sqr_diff[m][1],nb_range+1))))\n",
    "        \n",
    "        pred_value += [contact_pred[m][0][p[0]][p[1]] for p in points_ind if p[0]<=p[1]]\n",
    "        neighbor_value += [get_neighbors(p[0],p[1],nb_range,sqr_diff[m][1],contact_pred[m][0]) for p in points_ind if p[0]<=p[1]]\n",
    "        sqr_diff_value += [sqr_diff[m][0][p[0]][p[1]] for p in points_ind if p[0]<=p[1]]\n",
    "    \n",
    "    return(pred_value, neighbor_value, sqr_diff_value)"
   ]
  },
  {
   "cell_type": "markdown",
   "metadata": {},
   "source": [
    "### Output as .csv"
   ]
  },
  {
   "cell_type": "markdown",
   "metadata": {},
   "source": [
    "Merge and convert lists to dataframe, and output as csv files."
   ]
  },
  {
   "cell_type": "code",
   "execution_count": 9,
   "metadata": {},
   "outputs": [
    {
     "data": {
      "application/vnd.jupyter.widget-view+json": {
       "model_id": "fadce1c976a64148865dd3b6514673cf",
       "version_major": 2,
       "version_minor": 0
      },
      "text/plain": [
       "HBox(children=(IntProgress(value=0, max=11181), HTML(value='')))"
      ]
     },
     "metadata": {},
     "output_type": "display_data"
    },
    {
     "name": "stdout",
     "output_type": "stream",
     "text": [
      "\n"
     ]
    }
   ],
   "source": [
    "'''\n",
    "print (len(pos_true)) # 9214132\n",
    "print (len(pos_false)) # 277242393\n",
    "# 9214132 + 277242393 = 369656525, which echoes the number of all data points\n",
    "\n",
    "# convert list to dataframe\n",
    "data_true = pd.DataFrame(pos_true,columns=[\"pos_x\", \"pos_y\"])\n",
    "data_false = pd.DataFrame(pos_false,columns=[\"pos_x\", \"pos_y\"])\n",
    "data_true[\"output\"] = 1 # TRUE data is marked 1\n",
    "data_false[\"output\"] = 0 # FALSE data is marked 0\n",
    "print (data_true)\n",
    "print (data_false)\n",
    "'''\n",
    "pred_value, neighbor_value, sqr_diff_value = method_two()\n"
   ]
  },
  {
   "cell_type": "code",
   "execution_count": 10,
   "metadata": {},
   "outputs": [],
   "source": [
    "# output dataframes of training data to csv files\n",
    "df_pred = pd.DataFrame(pred_value, columns = [\"pred\"])\n",
    "df_neighbor = pd.DataFrame(neighbor_value, columns=[\"neighbor_min\", \"neighbor_med\", \"neighbor_max\", \"neighbor_mean\", \"neighbor_sd\"])\n",
    "training_data = pd.concat([df_pred, df_neighbor], axis=1)\n",
    "training_data[\"sqr_diff\"] = sqr_diff_value\n",
    "training_data.to_csv(\"training_data.csv\", index=False)\n"
   ]
  },
  {
   "cell_type": "code",
   "execution_count": 11,
   "metadata": {},
   "outputs": [
    {
     "name": "stdout",
     "output_type": "stream",
     "text": [
      "                  pred  neighbor_min  neighbor_med  neighbor_max  \\\n",
      "0         1.000000e+00  3.448735e-01      0.999999      1.000000   \n",
      "1         2.303483e-01  1.373577e-02      0.356021      1.000000   \n",
      "2         1.214818e-02  5.842320e-03      0.022058      0.806485   \n",
      "3         7.544638e-03  5.842320e-03      0.010829      0.024479   \n",
      "4         9.081059e-03  8.041023e-03      0.011586      0.017962   \n",
      "...                ...           ...           ...           ...   \n",
      "23585333  1.923477e-03  2.356266e-07      0.000063      1.000000   \n",
      "23585334  8.860329e-07  2.356266e-07      0.000010      0.949198   \n",
      "23585335  1.000000e+00  9.134875e-06      0.974640      1.000000   \n",
      "23585336  1.729165e-04  1.150460e-06      0.001329      1.000000   \n",
      "23585337  1.000000e+00  1.915087e-03      0.999998      1.000000   \n",
      "\n",
      "          neighbor_mean  neighbor_sd      sqr_diff  \n",
      "0              0.887225     0.217816  6.646194e-16  \n",
      "1              0.502149     0.419060  5.923637e-01  \n",
      "2              0.077199     0.159575  1.475782e-04  \n",
      "3              0.011325     0.003963  3.969878e+00  \n",
      "4              0.012287     0.003123  3.963758e+00  \n",
      "...                 ...          ...           ...  \n",
      "23585333       0.281961     0.447571  3.699765e-06  \n",
      "23585334       0.028021     0.162768  7.850543e-13  \n",
      "23585335       0.653496     0.471560  5.029795e-25  \n",
      "23585336       0.373311     0.476768  2.990011e-08  \n",
      "23585337       0.761175     0.411599  7.851505e-19  \n",
      "\n",
      "[23585338 rows x 7 columns]\n",
      "23585338\n"
     ]
    }
   ],
   "source": [
    "print (training_data)\n",
    "print (len(pred_value))"
   ]
  },
  {
   "cell_type": "markdown",
   "metadata": {},
   "source": [
    "# Visualize Contact Maps"
   ]
  },
  {
   "cell_type": "markdown",
   "metadata": {},
   "source": [
    "not relevant to getting training data but may be referenced later"
   ]
  },
  {
   "cell_type": "code",
   "execution_count": 12,
   "metadata": {},
   "outputs": [
    {
     "data": {
      "image/png": "[encoded data removed]",
      "text/plain": [
       "<Figure size 288x288 with 1 Axes>"
      ]
     },
     "metadata": {
      "needs_background": "light"
     },
     "output_type": "display_data"
    }
   ],
   "source": [
    "viz_cm = np.load(\"contact_maps/1A0CA_contact_map.npy\")\n",
    "plt.matshow(viz_cm)\n",
    "plt.show()"
   ]
  },
  {
   "cell_type": "code",
   "execution_count": 13,
   "metadata": {},
   "outputs": [
    {
     "data": {
      "image/png": "[encoded data removed]",
      "text/plain": [
       "<Figure size 288x288 with 1 Axes>"
      ]
     },
     "metadata": {
      "needs_background": "light"
     },
     "output_type": "display_data"
    }
   ],
   "source": [
    "viz_cp = np.load(\"contact_predictions/1A0CA_contact_pred.npy\")\n",
    "plt.matshow(viz_cp)\n",
    "plt.show()"
   ]
  },
  {
   "cell_type": "code",
   "execution_count": 14,
   "metadata": {},
   "outputs": [],
   "source": [
    "def temp_func():\n",
    "    return (1,2)\n"
   ]
  },
  {
   "cell_type": "code",
   "execution_count": 15,
   "metadata": {},
   "outputs": [
    {
     "name": "stdout",
     "output_type": "stream",
     "text": [
      "[(1, 2), (1, 2), (1, 2)]\n",
      "   a\n",
      "0  1\n",
      "1  2\n",
      "2  3\n",
      "   a  b\n",
      "0  1  4\n",
      "1  2  5\n",
      "2  3  6\n",
      "   ta  tb\n",
      "0   1   2\n",
      "1   1   2\n",
      "2   1   2\n",
      "   a  b  ta  tb\n",
      "0  1  4   1   2\n",
      "1  2  5   1   2\n",
      "2  3  6   1   2\n"
     ]
    }
   ],
   "source": [
    "t_t = [temp_func() for i in range(3)]\n",
    "print (t_t)\n",
    "t_t_a = [1,2,3]\n",
    "t_t_b = [4,5,6]\n",
    "t_t_d = pd.DataFrame()\n",
    "t_t_d[\"a\"] = t_t_a\n",
    "print (t_t_d)\n",
    "t_t_d[\"b\"] = t_t_b\n",
    "print (t_t_d)\n",
    "t_t_e = pd.DataFrame(t_t,columns=[\"ta\",\"tb\"])\n",
    "print (t_t_e)\n",
    "t_t_r = pd.concat([t_t_d, t_t_e], axis=1)\n",
    "print (t_t_r)"
   ]
  },
  {
   "cell_type": "code",
   "execution_count": null,
   "metadata": {},
   "outputs": [],
   "source": []
  }
 ],
 "metadata": {
  "kernelspec": {
   "display_name": "Python 3",
   "language": "python",
   "name": "python3"
  },
  "language_info": {
   "codemirror_mode": {
    "name": "ipython",
    "version": 3
   },
   "file_extension": ".py",
   "mimetype": "text/x-python",
   "name": "python",
   "nbconvert_exporter": "python",
   "pygments_lexer": "ipython3",
   "version": "3.7.4"
  }
 },
 "nbformat": 4,
 "nbformat_minor": 2
}
