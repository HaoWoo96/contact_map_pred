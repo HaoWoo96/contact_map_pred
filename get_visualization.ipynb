{
 "cells": [
  {
   "cell_type": "markdown",
   "metadata": {},
   "source": [
    "Hao Wu  September 30 2020 <br />\n",
    "This code is intended to generate data visualizations"
   ]
  },
  {
   "cell_type": "code",
   "execution_count": 1,
   "metadata": {},
   "outputs": [],
   "source": [
    "import numpy as np\n",
    "import matplotlib.pyplot as plt\n",
    "import os\n",
    "import pathlib\n",
    "from tqdm.notebook import tqdm\n",
    "import pandas as pd\n",
    "import itertools\n",
    "import statistics\n",
    "import csv\n",
    "import scipy.stats as st\n",
    "import scipy.ndimage\n"
   ]
  },
  {
   "cell_type": "markdown",
   "metadata": {},
   "source": [
    "## 1.1 Read & Check Distance Matrices"
   ]
  },
  {
   "cell_type": "markdown",
   "metadata": {},
   "source": [
    "in the matrix:\n",
    "0 -- no contact\n",
    "1 -- contact\n",
    "2 -- missing information (ignore it)"
   ]
  },
  {
   "cell_type": "code",
   "execution_count": 2,
   "metadata": {},
   "outputs": [
    {
     "name": "stdout",
     "output_type": "stream",
     "text": [
      "True\n",
      "True\n",
      "True\n",
      "11181\n"
     ]
    }
   ],
   "source": [
    "maps = os.listdir(\"contact_maps/\")\n",
    "pred = os.listdir(\"contact_predictions/\")\n",
    "maps_code = [m.split(\"_\")[0] for m in maps]\n",
    "pred_code = [p.split(\"_\")[0] for p in pred]\n",
    "# check duplicated elements in maps or preds\n",
    "print (len(set(maps_code)) == len(maps_code))\n",
    "print (len(set(pred_code)) == len(pred_code))\n",
    "\n",
    "# check whether maps & preds match\n",
    "print (set(maps_code) == set(pred_code)) # True, which means we have same set of acid code for real contact map and predictions\n",
    "num_of_code = len(set(maps_code))\n",
    "print (num_of_code) # number of acid codes/contact maps we are analyzing \n"
   ]
  },
  {
   "cell_type": "markdown",
   "metadata": {},
   "source": [
    "## 1.2 Generate Matrices of Diff (+/-) & Sqr_Diff"
   ]
  },
  {
   "cell_type": "markdown",
   "metadata": {},
   "source": [
    "1. For each pair of contact map & prediction, calculate difference & squared difference between corresponding points of the two matrices and generate a square diff matrix.\n",
    "2. Collect all data points in the upper triangular part of each diff/sqr-diff matrix and store in a list\n",
    "3. Classify diff/sqr_diff matrices based on sizes \n",
    "* upper triangular part: since data points on each contact map are symmetric about y=x, we can either focus on upper triangular part of the matrix (y>=x) or on lower triangular part (x>=y)"
   ]
  },
  {
   "cell_type": "code",
   "execution_count": 3,
   "metadata": {},
   "outputs": [
    {
     "data": {
      "application/vnd.jupyter.widget-view+json": {
       "model_id": "a5fb6df498a54253abba7dc8e6e85971",
       "version_major": 2,
       "version_minor": 0
      },
      "text/plain": [
       "HBox(children=(FloatProgress(value=0.0, max=11181.0), HTML(value='')))"
      ]
     },
     "metadata": {},
     "output_type": "display_data"
    },
    {
     "name": "stdout",
     "output_type": "stream",
     "text": [
      "\n"
     ]
    }
   ],
   "source": [
    "diff = {} # key: contact code, value: (sqr_diff matrix, size, diff matrix)\n",
    "\n",
    "# for visualization\n",
    "diff_by_size = {} # key:size, value: ([sqr_diff matrices], [fp_diff matrices], [fn_diff matrices])\n",
    "contact_pred = {}\n",
    "\n",
    "# for getting idea of distribution of sqr_diff/diff\n",
    "diff_ele = []\n",
    "diff_ele_pos = []\n",
    "diff_ele_neg = []\n",
    "sqr_diff_ele = []\n",
    "\n",
    "for c in tqdm(maps_code):\n",
    "    temp_map = np.load(\"contact_maps/\"+c+\"_contact_map.npy\")\n",
    "    temp_pred = np.load(\"contact_predictions/\"+c+\"_contact_pred.npy\")\n",
    "    size = temp_map.shape[0]\n",
    "    \n",
    "    temp_diff = np.subtract(temp_pred, temp_map)\n",
    "    temp_sqr_diff = np.power(np.subtract(temp_pred, temp_map),2)\n",
    "\n",
    "    \n",
    "    # check where the contact_map has 2 (which means missing info), set set sqr_diff as -1 (missing information)\n",
    "    clear_temp_diff = np.where(temp_map==2,999, temp_diff)\n",
    "    clear_temp_sqr_diff = np.where(temp_map==2, -1, temp_sqr_diff) \n",
    "    \n",
    "    contact_pred[c] = (temp_pred, size)\n",
    "    diff[c] = (clear_temp_sqr_diff, size, clear_temp_diff)\n",
    "    \n",
    "    iu = np.triu_indices(size) # indices in upper triangle matrix\n",
    "\n",
    "    # concatenating flatten np matrix with list is faster than merging np matrix\n",
    "    diff_ele += list(filter(lambda a: a != 999, list(clear_temp_diff[iu].flat))) # collecting all diff values regardless of 999 (missing info)\n",
    "    diff_ele_pos += list(filter(lambda a: a != 999 and a>0, list(clear_temp_diff[iu].flat))) \n",
    "    diff_ele_neg += list(filter(lambda a: a != 999 and a<0, list(clear_temp_diff[iu].flat)))\n",
    "    sqr_diff_ele += list(filter(lambda a: a != -1, list(clear_temp_sqr_diff[iu].flat))) # collecting all sqr_diff values regardless of -1 (missing info)\n",
    "    \n",
    "    # for visualization use\n",
    "    clear_temp_diff_zero = np.where(temp_map==2,0, temp_diff) # replace missing info with 0\n",
    "    clear_temp_diff_fp = np.where(clear_temp_diff_zero>0, clear_temp_diff_zero, 0)\n",
    "    clear_temp_diff_fn = np.where(clear_temp_diff_zero<0, clear_temp_diff_zero, 0)\n",
    "    clear_temp_sqr_diff_zero = np.where(temp_map==2, 0, temp_sqr_diff)\n",
    "  \n",
    "    if size not in (list(diff_by_size.keys())):\n",
    "        # diff_by_size[size] = ([clear_temp_sqr_diff_zero], [clear_temp_diff_fp], [clear_temp_diff_fn])\n",
    "        diff_by_size[size] = [1,[c], clear_temp_sqr_diff_zero, clear_temp_diff_fp, clear_temp_diff_fn]\n",
    "    else:\n",
    "        # diff_by_size[size][0].append(clear_temp_sqr_diff_zero)\n",
    "        # diff_by_size[size][1].append(clear_temp_diff_fp)\n",
    "        # diff_by_size[size][2].append(clear_temp_diff_fn)\n",
    "        diff_by_size[size][0] += 1\n",
    "        diff_by_size[size][1].append(c)\n",
    "        diff_by_size[size][2] += clear_temp_sqr_diff_zero\n",
    "        diff_by_size[size][3] += clear_temp_diff_fp\n",
    "        diff_by_size[size][4] += clear_temp_diff_fn\n",
    "    \n",
    "    \n",
    "# sorting diff_by_size by size\n",
    "diff_by_size = {key:[value[0], value[1], value[2]/value[0], value[3]/value[0], value[4]/value[0]] for key, value in sorted(diff_by_size.items(), key=lambda item: int(item[0]))}"
   ]
  },
  {
   "cell_type": "code",
   "execution_count": 4,
   "metadata": {},
   "outputs": [
    {
     "name": "stdout",
     "output_type": "stream",
     "text": [
      "[(50, 15), (51, 17), (52, 14), (53, 17), (54, 17), (55, 14), (56, 15), (57, 19), (58, 18), (59, 23), (60, 17), (61, 22), (62, 27), (63, 24), (64, 24), (65, 24), (66, 31), (67, 31), (68, 25), (69, 28), (70, 22), (71, 21), (72, 20), (73, 21), (74, 29), (75, 28), (76, 24), (77, 32), (78, 28), (79, 28), (80, 35), (81, 47), (82, 29), (83, 22), (84, 33), (85, 42), (86, 34), (87, 32), (88, 29), (89, 38), (90, 50), (91, 32), (92, 42), (93, 36), (94, 39), (95, 39), (96, 39), (97, 41), (98, 46), (99, 35), (100, 36), (101, 35), (102, 43), (103, 37), (104, 43), (105, 48), (106, 54), (107, 32), (108, 43), (109, 56), (110, 41), (111, 42), (112, 41), (113, 41), (114, 51), (115, 61), (116, 36), (117, 36), (118, 55), (119, 47), (120, 45), (121, 57), (122, 54), (123, 50), (124, 53), (125, 34), (126, 45), (127, 45), (128, 35), (129, 39), (130, 43), (131, 54), (132, 45), (133, 45), (134, 49), (135, 47), (136, 41), (137, 52), (138, 52), (139, 44), (140, 40), (141, 43), (142, 54), (143, 38), (144, 48), (145, 45), (146, 54), (147, 46), (148, 31), (149, 53), (150, 38), (151, 44), (152, 57), (153, 49), (154, 46), (155, 37), (156, 43), (157, 53), (158, 44), (159, 53), (160, 38), (161, 37), (162, 44), (163, 32), (164, 29), (165, 33), (166, 40), (167, 30), (168, 31), (169, 36), (170, 30), (171, 33), (172, 30), (173, 22), (174, 33), (175, 40), (176, 41), (177, 31), (178, 29), (179, 37), (180, 47), (181, 29), (182, 41), (183, 30), (184, 45), (185, 34), (186, 35), (187, 28), (188, 33), (189, 36), (190, 34), (191, 22), (192, 38), (193, 30), (194, 53), (195, 34), (196, 25), (197, 35), (198, 31), (199, 39), (200, 39), (201, 33), (202, 31), (203, 31), (204, 27), (205, 42), (206, 49), (207, 38), (208, 34), (209, 31), (210, 35), (211, 39), (212, 29), (213, 42), (214, 28), (215, 40), (216, 32), (217, 32), (218, 26), (219, 25), (220, 33), (221, 19), (222, 31), (223, 22), (224, 30), (225, 31), (226, 21), (227, 29), (228, 27), (229, 30), (230, 27), (231, 33), (232, 24), (233, 27), (234, 26), (235, 38), (236, 28), (237, 22), (238, 24), (239, 26), (240, 34), (241, 29), (242, 22), (243, 23), (244, 17), (245, 25), (246, 29), (247, 30), (248, 27), (249, 37), (250, 35), (251, 30), (252, 30), (253, 19), (254, 33), (255, 29), (256, 30), (257, 25), (258, 36), (259, 32), (260, 23), (261, 26), (262, 29), (263, 28), (264, 29), (265, 23), (266, 18), (267, 24), (268, 20), (269, 27), (270, 25), (271, 23), (272, 30), (273, 36), (274, 24), (275, 25), (276, 23), (277, 26), (278, 29), (279, 20), (280, 34), (281, 23), (282, 21), (283, 24), (284, 27), (285, 16), (286, 22), (287, 15), (288, 29), (289, 15), (290, 22), (291, 22), (292, 26), (293, 22), (294, 18), (295, 25), (296, 24), (297, 20), (298, 27), (299, 26), (300, 26), (301, 19), (302, 28), (303, 21), (304, 19), (305, 17), (306, 26), (307, 21), (308, 24), (309, 31), (310, 19), (311, 21), (312, 21), (313, 17), (314, 27), (315, 18), (316, 26), (317, 23), (318, 21), (319, 15), (320, 17), (321, 24), (322, 21), (323, 15), (324, 14), (325, 35), (326, 18), (327, 12), (328, 23), (329, 19), (330, 23), (331, 15), (332, 24), (333, 25), (334, 16), (335, 19), (336, 17), (337, 24), (338, 7), (339, 16), (340, 22), (341, 19), (342, 29), (343, 20), (344, 14), (345, 17), (346, 13), (347, 25), (348, 12), (349, 16), (350, 15), (351, 18), (352, 18), (353, 24), (354, 15), (355, 14), (356, 17), (357, 20), (358, 14), (359, 14), (360, 21), (361, 7), (362, 22), (363, 17), (364, 12), (365, 17), (366, 19), (367, 12), (368, 15), (369, 17), (370, 14), (371, 16), (372, 16), (373, 14), (374, 17), (375, 15), (376, 18), (377, 9), (378, 13), (379, 16), (380, 10), (381, 22), (382, 10), (383, 10), (384, 17), (385, 16), (386, 17), (387, 9), (388, 22), (389, 20), (390, 10), (391, 15), (392, 18), (393, 20), (394, 15), (395, 10), (396, 9), (397, 9), (398, 14), (399, 10), (400, 12), (401, 19), (402, 11), (403, 11), (404, 11), (405, 13), (406, 8), (407, 9), (408, 7), (409, 11), (410, 9), (411, 7), (412, 9), (413, 9), (414, 11), (415, 10), (416, 10), (417, 15), (418, 13), (419, 5), (420, 11), (421, 7), (422, 11), (423, 9), (424, 12), (425, 16), (426, 7), (427, 6), (428, 8), (429, 14), (430, 7), (431, 9), (432, 5), (433, 12), (434, 7), (435, 16), (436, 12), (437, 9), (438, 5), (439, 9), (440, 11), (441, 3), (442, 9), (443, 3), (444, 10), (445, 12), (446, 3), (447, 5), (448, 6), (449, 6), (450, 7), (451, 10), (452, 8), (453, 8), (454, 6), (455, 7), (456, 7), (457, 8), (458, 10), (459, 7), (460, 6), (461, 7), (462, 5), (463, 5), (464, 5), (465, 11), (466, 7), (467, 8), (468, 9), (469, 6), (470, 5), (471, 9), (472, 9), (473, 4), (474, 3), (475, 7), (476, 5), (477, 9), (478, 3), (479, 4), (480, 9), (481, 5), (482, 12), (483, 7), (484, 6), (485, 7), (486, 4), (487, 8), (488, 2), (489, 3), (490, 7), (491, 7), (492, 8), (493, 7), (494, 9), (495, 4), (496, 3), (497, 5), (498, 4), (499, 2), (500, 9), (501, 7), (502, 3), (504, 5), (505, 11), (506, 6), (507, 4), (508, 4), (509, 7), (510, 5), (511, 8), (512, 7), (513, 5), (514, 5), (515, 5), (516, 3), (517, 4), (519, 5), (520, 4), (521, 3), (522, 5), (523, 3), (524, 3), (525, 6), (526, 4), (527, 2), (529, 4), (531, 2), (532, 3), (534, 5), (535, 4), (536, 5), (537, 3), (538, 4), (539, 6), (540, 4), (541, 3), (542, 2), (543, 4), (544, 2), (545, 3), (546, 4), (547, 2), (548, 4), (549, 5), (551, 4), (552, 3), (553, 2), (554, 3), (555, 6), (557, 4), (558, 2), (562, 4), (564, 4), (567, 5), (568, 2), (569, 3), (570, 3), (571, 4), (572, 2), (573, 2), (574, 3), (575, 2), (576, 5), (578, 3), (579, 3), (580, 2), (581, 7), (582, 4), (585, 2), (586, 6), (587, 5), (588, 3), (589, 3), (591, 2), (594, 3), (596, 3), (597, 3), (599, 2), (600, 3)]\n"
     ]
    }
   ],
   "source": [
    "temp = [(d, diff_by_size[d][0]) for d in list(diff_by_size.keys()) if diff_by_size[d][0]>1]\n",
    "print (temp)"
   ]
  },
  {
   "cell_type": "markdown",
   "metadata": {},
   "source": [
    "## 1.3 Distribution of Sqr_diff/Diff Values"
   ]
  },
  {
   "cell_type": "markdown",
   "metadata": {},
   "source": [
    "1. Calculate quantiles of Sqr_diff / Positive Diff / Negative Diff\n",
    "2. Visualize with histogram"
   ]
  },
  {
   "cell_type": "code",
   "execution_count": 5,
   "metadata": {},
   "outputs": [
    {
     "data": {
      "text/plain": [
       "'\\n#print (len(diff_ele)) # 355941541 | 369656525\\n\\n# cutoff: arbitrarily design, try with different numbers (should be larger than 0.5 in absolute diff)\\nelements = [sqr_diff_ele, diff_ele_pos, diff_ele_neg]\\nelements_list = [\"Sqared Difference Values\", \"Positive Difference Values\", \"Negative Difference Values\"]\\n# takes about 2-3 min to compute\\nfor i in range(3):\\n    \\n    print (\"========== \"+elements_list[i]+\" ==========\\n\")\\n    print (\"Number of values: \"+str(len(elements[i])))\\n    min_cutoff = min(elements[i])\\n    cutoff_75 = np.quantile(elements[i],0.75) # \\n    cutoff_50 = np.quantile(elements[i],0.50) #\\n    cutoff_25 = np.quantile(elements[i],0.25) # \\n    cutoff_9772 = np.quantile(elements[i],0.9772) # \\n    cutoff_9987 = np.quantile(elements[i],0.9987) # \\n    max_cutoff = max(elements[i]) # \\n\\n    print (\"min: \"+str(min_cutoff))\\n    print (\"25%: \"+str(cutoff_25))\\n    print (\"50%: \"+str(cutoff_50))\\n    print (\"75%: \"+str(cutoff_75))\\n    print (\"97.72%: \"+str(cutoff_9772))\\n    print (\"99.87%: \"+str(cutoff_9987))\\n    print (\"max: \"+str(max_cutoff))\\n    \\n    # histogram\\n    plt.hist(elements[i], bins = 30)\\n    plt.xlabel(elements_list[i])\\n    plt.ylabel(\\'Frequency\\')\\n    plt.title(\\'Histogram of \\'+elements_list[i])\\n    plt.show()\\n\\n#cutoff = 7.068872962487293e-06\\n'"
      ]
     },
     "execution_count": 5,
     "metadata": {},
     "output_type": "execute_result"
    }
   ],
   "source": [
    "'''\n",
    "#print (len(diff_ele)) # 355941541 | 369656525\n",
    "\n",
    "# cutoff: arbitrarily design, try with different numbers (should be larger than 0.5 in absolute diff)\n",
    "elements = [sqr_diff_ele, diff_ele_pos, diff_ele_neg]\n",
    "elements_list = [\"Sqared Difference Values\", \"Positive Difference Values\", \"Negative Difference Values\"]\n",
    "# takes about 2-3 min to compute\n",
    "for i in range(3):\n",
    "    \n",
    "    print (\"========== \"+elements_list[i]+\" ==========\\n\")\n",
    "    print (\"Number of values: \"+str(len(elements[i])))\n",
    "    min_cutoff = min(elements[i])\n",
    "    cutoff_75 = np.quantile(elements[i],0.75) # \n",
    "    cutoff_50 = np.quantile(elements[i],0.50) #\n",
    "    cutoff_25 = np.quantile(elements[i],0.25) # \n",
    "    cutoff_9772 = np.quantile(elements[i],0.9772) # \n",
    "    cutoff_9987 = np.quantile(elements[i],0.9987) # \n",
    "    max_cutoff = max(elements[i]) # \n",
    "\n",
    "    print (\"min: \"+str(min_cutoff))\n",
    "    print (\"25%: \"+str(cutoff_25))\n",
    "    print (\"50%: \"+str(cutoff_50))\n",
    "    print (\"75%: \"+str(cutoff_75))\n",
    "    print (\"97.72%: \"+str(cutoff_9772))\n",
    "    print (\"99.87%: \"+str(cutoff_9987))\n",
    "    print (\"max: \"+str(max_cutoff))\n",
    "    \n",
    "    # histogram\n",
    "    plt.hist(elements[i], bins = 30)\n",
    "    plt.xlabel(elements_list[i])\n",
    "    plt.ylabel('Frequency')\n",
    "    plt.title('Histogram of '+elements_list[i])\n",
    "    plt.show()\n",
    "\n",
    "#cutoff = 7.068872962487293e-06\n",
    "'''\n",
    "\n"
   ]
  },
  {
   "cell_type": "markdown",
   "metadata": {},
   "source": [
    "## 1.4 Visualize Accumulative Sqr_diff / Positive Diff / Negative Diff in Matrices of Each Size"
   ]
  },
  {
   "cell_type": "markdown",
   "metadata": {},
   "source": [
    "Maps below is intended to help us find patterns of false predictions.\n",
    "Diagrams of Positive Diff may represent some features of false-positive predictions, and diagrams of Negative Diff may represent some features of false-negative predictions"
   ]
  },
  {
   "cell_type": "code",
   "execution_count": 6,
   "metadata": {},
   "outputs": [
    {
     "data": {
      "application/vnd.jupyter.widget-view+json": {
       "model_id": "2636e3b136314012b98a9a377976af2d",
       "version_major": 2,
       "version_minor": 0
      },
      "text/plain": [
       "HBox(children=(FloatProgress(value=0.0, max=546.0), HTML(value='')))"
      ]
     },
     "metadata": {},
     "output_type": "display_data"
    },
    {
     "name": "stdout",
     "output_type": "stream",
     "text": [
      "\n"
     ]
    }
   ],
   "source": [
    "\n",
    "# takes about 5-6 hours\n",
    "titles = [\"Accumulative Sqr Diff\", \"Accumulative Positive Diff\", \"Accumulative Negative Diff\"]\n",
    "cutoff = [[0.49, 0.7, -0.7], [0.64, 0.8, -0.8]]\n",
    "\n",
    "for s in tqdm(list(diff_by_size.keys())):\n",
    "    fig, axs = plt.subplots(3,3,figsize=(15,15))\n",
    "    for i in range (3):\n",
    "        for j in range (3):\n",
    "            if i==0:\n",
    "                im = axs[i][j].matshow(diff_by_size[s][j+2], interpolation=\"nearest\")\n",
    "                fig.colorbar(im, ax=axs[i][j], shrink=0.2)\n",
    "                axs[i][j].set_xlabel(titles[j]+\" (No Cutoff)\", size=12)\n",
    "            \n",
    "            else:\n",
    "                if j!=2:\n",
    "                    temp_matrix = np.where(diff_by_size[s][j+2]>=(cutoff[i-1][j]), diff_by_size[s][j+2], 0)   \n",
    "                else:\n",
    "                    temp_matrix = np.where(diff_by_size[s][j+2]<=(cutoff[i-1][j]), diff_by_size[s][j+2], 0)\n",
    "                im = axs[i][j].matshow(temp_matrix, interpolation=\"nearest\")\n",
    "                fig.colorbar(im, ax=axs[i][j], shrink=0.2)\n",
    "                axs[i][j].set_xlabel(titles[j]+\" (Cutoff: \"+str(cutoff[i-1][j])+\")\", size=12)\n",
    "            \n",
    "            \n",
    "    fig.suptitle(\"Size: \"+str(s)+\", Num: \"+str(diff_by_size[s][0]))\n",
    "    plt.tight_layout()\n",
    "    plt.savefig(\"viz/\"+str(s)+\".png\")\n",
    "    plt.close(fig)\n",
    "        \n"
   ]
  },
  {
   "cell_type": "code",
   "execution_count": null,
   "metadata": {},
   "outputs": [],
   "source": []
  },
  {
   "cell_type": "code",
   "execution_count": null,
   "metadata": {},
   "outputs": [],
   "source": []
  }
 ],
 "metadata": {
  "kernelspec": {
   "display_name": "Python 3",
   "language": "python",
   "name": "python3"
  },
  "language_info": {
   "codemirror_mode": {
    "name": "ipython",
    "version": 3
   },
   "file_extension": ".py",
   "mimetype": "text/x-python",
   "name": "python",
   "nbconvert_exporter": "python",
   "pygments_lexer": "ipython3",
   "version": "3.8.3"
  }
 },
 "nbformat": 4,
 "nbformat_minor": 4
}
